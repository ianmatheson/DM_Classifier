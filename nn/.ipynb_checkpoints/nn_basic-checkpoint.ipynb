{
 "cells": [
  {
   "cell_type": "code",
   "execution_count": 40,
   "metadata": {},
   "outputs": [],
   "source": [
    "from numpy import loadtxt\n",
    "from keras.models import Sequential\n",
    "from keras.layers import Dense\n",
    "from sklearn.preprocessing import LabelEncoder\n",
    "import pandas as pd\n",
    "from keras.utils import np_utils\n",
    "import numpy as np\n",
    "from keras import optimizers"
   ]
  },
  {
   "cell_type": "code",
   "execution_count": 35,
   "metadata": {},
   "outputs": [],
   "source": [
    "### need to upload dataset \n",
    "### input X: will be the values of the features for each song \n",
    "### output Y: will be the playlist that the feature is placed in "
   ]
  },
  {
   "cell_type": "code",
   "execution_count": 28,
   "metadata": {},
   "outputs": [],
   "source": [
    "#load in the data set: \n",
    "jazz = pd.read_csv(\"../data/jazz_csv.csv\")\n",
    "classical = pd.read_csv(\"../data/classical_csv.csv\")\n",
    "country = pd.read_csv(\"../data/country_csv.csv\")\n",
    "edm = pd.read_csv(\"../data/edm_csv.csv\")\n",
    "rap = pd.read_csv(\"../data/rap_csv.csv\")\n",
    "rock = pd.read_csv(\"../data/rock_csv.csv\")"
   ]
  },
  {
   "cell_type": "code",
   "execution_count": 29,
   "metadata": {},
   "outputs": [
    {
     "data": {
      "text/html": [
       "<div>\n",
       "<style scoped>\n",
       "    .dataframe tbody tr th:only-of-type {\n",
       "        vertical-align: middle;\n",
       "    }\n",
       "\n",
       "    .dataframe tbody tr th {\n",
       "        vertical-align: top;\n",
       "    }\n",
       "\n",
       "    .dataframe thead th {\n",
       "        text-align: right;\n",
       "    }\n",
       "</style>\n",
       "<table border=\"1\" class=\"dataframe\">\n",
       "  <thead>\n",
       "    <tr style=\"text-align: right;\">\n",
       "      <th></th>\n",
       "      <th>Unnamed: 0</th>\n",
       "      <th>acousticness</th>\n",
       "      <th>danceability</th>\n",
       "      <th>energy</th>\n",
       "      <th>instrumentalness</th>\n",
       "      <th>key</th>\n",
       "      <th>loudness</th>\n",
       "      <th>speechiness</th>\n",
       "      <th>tempo</th>\n",
       "      <th>valence</th>\n",
       "    </tr>\n",
       "  </thead>\n",
       "  <tbody>\n",
       "    <tr>\n",
       "      <th>0</th>\n",
       "      <td>1vJOG1Ea4M7WtJlH2b9eM2</td>\n",
       "      <td>0.920</td>\n",
       "      <td>0.530</td>\n",
       "      <td>0.434</td>\n",
       "      <td>0.00975</td>\n",
       "      <td>7</td>\n",
       "      <td>-9.706</td>\n",
       "      <td>0.1430</td>\n",
       "      <td>203.817</td>\n",
       "      <td>0.829</td>\n",
       "    </tr>\n",
       "    <tr>\n",
       "      <th>1</th>\n",
       "      <td>4xR1tOO9p4cnDNmIEttfaZ</td>\n",
       "      <td>0.995</td>\n",
       "      <td>0.376</td>\n",
       "      <td>0.467</td>\n",
       "      <td>0.88600</td>\n",
       "      <td>3</td>\n",
       "      <td>-13.670</td>\n",
       "      <td>0.0435</td>\n",
       "      <td>163.589</td>\n",
       "      <td>0.730</td>\n",
       "    </tr>\n",
       "    <tr>\n",
       "      <th>2</th>\n",
       "      <td>27NnHXU3w40RFJF9HEpazP</td>\n",
       "      <td>0.990</td>\n",
       "      <td>0.495</td>\n",
       "      <td>0.476</td>\n",
       "      <td>0.89300</td>\n",
       "      <td>8</td>\n",
       "      <td>-9.730</td>\n",
       "      <td>0.0413</td>\n",
       "      <td>125.669</td>\n",
       "      <td>0.900</td>\n",
       "    </tr>\n",
       "    <tr>\n",
       "      <th>3</th>\n",
       "      <td>75SK3djaJssHR9TTHTv7wI</td>\n",
       "      <td>0.826</td>\n",
       "      <td>0.688</td>\n",
       "      <td>0.404</td>\n",
       "      <td>0.58900</td>\n",
       "      <td>2</td>\n",
       "      <td>-10.655</td>\n",
       "      <td>0.0359</td>\n",
       "      <td>89.237</td>\n",
       "      <td>0.907</td>\n",
       "    </tr>\n",
       "    <tr>\n",
       "      <th>4</th>\n",
       "      <td>5vwYvmB2B5h8GIfEVkwJj2</td>\n",
       "      <td>0.982</td>\n",
       "      <td>0.615</td>\n",
       "      <td>0.269</td>\n",
       "      <td>0.78300</td>\n",
       "      <td>5</td>\n",
       "      <td>-14.400</td>\n",
       "      <td>0.0508</td>\n",
       "      <td>98.205</td>\n",
       "      <td>0.752</td>\n",
       "    </tr>\n",
       "  </tbody>\n",
       "</table>\n",
       "</div>"
      ],
      "text/plain": [
       "               Unnamed: 0  acousticness  danceability  energy  \\\n",
       "0  1vJOG1Ea4M7WtJlH2b9eM2         0.920         0.530   0.434   \n",
       "1  4xR1tOO9p4cnDNmIEttfaZ         0.995         0.376   0.467   \n",
       "2  27NnHXU3w40RFJF9HEpazP         0.990         0.495   0.476   \n",
       "3  75SK3djaJssHR9TTHTv7wI         0.826         0.688   0.404   \n",
       "4  5vwYvmB2B5h8GIfEVkwJj2         0.982         0.615   0.269   \n",
       "\n",
       "   instrumentalness  key  loudness  speechiness    tempo  valence  \n",
       "0           0.00975    7    -9.706       0.1430  203.817    0.829  \n",
       "1           0.88600    3   -13.670       0.0435  163.589    0.730  \n",
       "2           0.89300    8    -9.730       0.0413  125.669    0.900  \n",
       "3           0.58900    2   -10.655       0.0359   89.237    0.907  \n",
       "4           0.78300    5   -14.400       0.0508   98.205    0.752  "
      ]
     },
     "execution_count": 29,
     "metadata": {},
     "output_type": "execute_result"
    }
   ],
   "source": [
    "jazz.head(5)"
   ]
  },
  {
   "cell_type": "code",
   "execution_count": 41,
   "metadata": {},
   "outputs": [],
   "source": [
    "#jazz_features, classical_features, country_features, country_features, edm_features, rap_features, rock_features = [], [],[],[],[],[]\n",
    "count = 0\n",
    "features = []\n",
    "genres = []\n",
    "#dataframes = {\"jazz\":jazz, \"classical\": classical, \"country\":country, \"edm\":edm, \"rap\": rap, \"rock\": rock}\n",
    "dataframes = {1:jazz, 2: classical, 3:country, 4:edm, 5: rap, 6: rock}\n",
    "for genre, dataframe in dataframes.items():\n",
    "    count = 0\n",
    "    for ind, row in dataframe.iterrows():\n",
    "        count+=1\n",
    "        features.append([row[\"acousticness\"], row[\"danceability\"], row[\"energy\"],row[\"loudness\"],row[\"speechiness\"], row[\"tempo\"], row[\"valence\"]])\n",
    "        genres.append(genre)"
   ]
  },
  {
   "cell_type": "code",
   "execution_count": 48,
   "metadata": {},
   "outputs": [],
   "source": [
    "y = genres\n",
    "X = [features]"
   ]
  },
  {
   "cell_type": "code",
   "execution_count": 43,
   "metadata": {},
   "outputs": [],
   "source": [
    "encoder = LabelEncoder()\n",
    "encoder.fit(y)\n",
    "encoded_Y = encoder.transform(y)\n",
    "# convert integers to dummy variables (i.e. one hot encoded)\n",
    "dummy_y = np_utils.to_categorical(encoded_Y)"
   ]
  },
  {
   "cell_type": "code",
   "execution_count": 53,
   "metadata": {},
   "outputs": [],
   "source": [
    "y = dummy_y"
   ]
  },
  {
   "cell_type": "code",
   "execution_count": 93,
   "metadata": {},
   "outputs": [],
   "source": [
    "model = Sequential() #use a sequential model bc we wanna keep adding layers potentially \n",
    "model.add(Dense(256, input_dim=7, activation='relu'))\n",
    "#model.add(Dense(12, activation=\"relu\", input_shape=(7,)))\n",
    "model.add(Dense(128, activation='relu'))\n",
    "model.add(Dense(64, activation='relu'))\n",
    "model.add(Dense(6, activation='softmax'))\n",
    "#model.add(Dense(1, activation='sigmoid'))\n",
    "#will prob need a dropout layer to compensate for overfitting"
   ]
  },
  {
   "cell_type": "code",
   "execution_count": 94,
   "metadata": {},
   "outputs": [],
   "source": [
    "sgd = optimizers.SGD(lr=0.01, decay=1e-6, momentum=0.9, nesterov=True)\n",
    "\n",
    "model.compile(optimizer='adam', loss='binary_crossentropy', metrics=['accuracy'])\n",
    "#use mean squared error loss funciton - ideal for our model and adam optimizer \n",
    "#adam optimizer: might change later - Adam is an optimization algorithm that can used instead of the classical stochastic gradient descent procedure to update network weights iterative based in training data."
   ]
  },
  {
   "cell_type": "code",
   "execution_count": 100,
   "metadata": {},
   "outputs": [
    {
     "name": "stdout",
     "output_type": "stream",
     "text": [
      "Epoch 1/10\n",
      "12548/12548 [==============================] - 1s 65us/step - loss: 0.2032 - acc: 0.9132\n",
      "Epoch 2/10\n",
      "12548/12548 [==============================] - 1s 65us/step - loss: 0.2332 - acc: 0.8971\n",
      "Epoch 3/10\n",
      "12548/12548 [==============================] - 1s 59us/step - loss: 0.2141 - acc: 0.9081\n",
      "Epoch 4/10\n",
      "12548/12548 [==============================] - 1s 61us/step - loss: 0.2140 - acc: 0.9078\n",
      "Epoch 5/10\n",
      "12548/12548 [==============================] - 1s 64us/step - loss: 0.2098 - acc: 0.9102\n",
      "Epoch 6/10\n",
      "12548/12548 [==============================] - 1s 60us/step - loss: 0.2079 - acc: 0.9108\n",
      "Epoch 7/10\n",
      "12548/12548 [==============================] - 1s 57us/step - loss: 0.2056 - acc: 0.9122\n",
      "Epoch 8/10\n",
      "12548/12548 [==============================] - 1s 58us/step - loss: 0.2054 - acc: 0.9117\n",
      "Epoch 9/10\n",
      "12548/12548 [==============================] - 1s 64us/step - loss: 0.2036 - acc: 0.9129\n",
      "Epoch 10/10\n",
      "12548/12548 [==============================] - 1s 56us/step - loss: 0.2029 - acc: 0.9136\n"
     ]
    },
    {
     "data": {
      "text/plain": [
       "<keras.callbacks.History at 0x1a30f68780>"
      ]
     },
     "execution_count": 100,
     "metadata": {},
     "output_type": "execute_result"
    }
   ],
   "source": [
    "model.fit(X, y, epochs=10, batch_size=128) #start with a baby amount "
   ]
  },
  {
   "cell_type": "code",
   "execution_count": 101,
   "metadata": {},
   "outputs": [
    {
     "name": "stdout",
     "output_type": "stream",
     "text": [
      "12548/12548 [==============================] - 1s 69us/step\n",
      "Accuracy: 91.36\n"
     ]
    }
   ],
   "source": [
    "# evaluate the keras model\n",
    "_, accuracy = model.evaluate(X, y) #this is the loss and the accuracy \n",
    "print('Accuracy: %.2f' % (accuracy*100))"
   ]
  },
  {
   "cell_type": "code",
   "execution_count": null,
   "metadata": {
    "collapsed": true
   },
   "outputs": [],
   "source": []
  }
 ],
 "metadata": {
  "kernelspec": {
   "display_name": "Python 3",
   "language": "python",
   "name": "python3"
  },
  "language_info": {
   "codemirror_mode": {
    "name": "ipython",
    "version": 3
   },
   "file_extension": ".py",
   "mimetype": "text/x-python",
   "name": "python",
   "nbconvert_exporter": "python",
   "pygments_lexer": "ipython3",
   "version": "3.6.4"
  }
 },
 "nbformat": 4,
 "nbformat_minor": 2
}
