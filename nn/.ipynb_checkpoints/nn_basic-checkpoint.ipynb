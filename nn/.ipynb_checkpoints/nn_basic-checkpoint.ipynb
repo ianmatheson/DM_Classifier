{
 "cells": [
  {
   "cell_type": "code",
   "execution_count": 1,
   "metadata": {},
   "outputs": [
    {
     "name": "stderr",
     "output_type": "stream",
     "text": [
      "Using TensorFlow backend.\n"
     ]
    }
   ],
   "source": [
    "from numpy import loadtxt\n",
    "from keras.models import Sequential\n",
    "from keras.layers import Dense\n",
    "from sklearn.preprocessing import LabelEncoder\n",
    "import pandas as pd\n",
    "from keras.utils import np_utils\n",
    "import numpy as np\n",
    "from keras import optimizers"
   ]
  },
  {
   "cell_type": "code",
   "execution_count": 2,
   "metadata": {},
   "outputs": [],
   "source": [
    "#load in the data set: \n",
    "jazz = pd.read_csv(\"../data/jazz_csv.csv\")\n",
    "classical = pd.read_csv(\"../data/classical_csv.csv\")\n",
    "country = pd.read_csv(\"../data/country_csv.csv\")\n",
    "edm = pd.read_csv(\"../data/edm_csv.csv\")\n",
    "rap = pd.read_csv(\"../data/rap_csv.csv\")\n",
    "rock = pd.read_csv(\"../data/rock_csv.csv\")"
   ]
  },
  {
   "cell_type": "code",
   "execution_count": 3,
   "metadata": {},
   "outputs": [],
   "source": [
    "count = 0\n",
    "features = []\n",
    "genres = []\n",
    "dataframes = {1:jazz, 2: classical, 3:country, 4:edm, 5: rap, 6: rock} #map genre dfs to index\n",
    "for genre, dataframe in dataframes.items():\n",
    "    count = 0\n",
    "    for ind, row in dataframe.iterrows():\n",
    "        count+=1\n",
    "        features.append([row[\"acousticness\"], row[\"danceability\"], row[\"energy\"],row[\"loudness\"],row[\"speechiness\"], row[\"tempo\"], row[\"valence\"]])\n",
    "        genres.append(genre)"
   ]
  },
  {
   "cell_type": "code",
   "execution_count": 4,
   "metadata": {},
   "outputs": [],
   "source": [
    "y = genres\n",
    "X = [features]"
   ]
  },
  {
   "cell_type": "code",
   "execution_count": 5,
   "metadata": {},
   "outputs": [],
   "source": [
    "encoder = LabelEncoder()\n",
    "encoder.fit(y)\n",
    "encoded_Y = encoder.transform(y)\n",
    "dummy_y = np_utils.to_categorical(encoded_Y) #hot encoder matrix for classifying genre \n",
    "y = dummy_y"
   ]
  },
  {
   "cell_type": "code",
   "execution_count": 6,
   "metadata": {},
   "outputs": [
    {
     "name": "stdout",
     "output_type": "stream",
     "text": [
      "WARNING:tensorflow:From /Users/mauraw/anaconda3/envs/p36workshop/lib/python3.6/site-packages/keras/backend/tensorflow_backend.py:74: The name tf.get_default_graph is deprecated. Please use tf.compat.v1.get_default_graph instead.\n",
      "\n",
      "WARNING:tensorflow:From /Users/mauraw/anaconda3/envs/p36workshop/lib/python3.6/site-packages/keras/backend/tensorflow_backend.py:517: The name tf.placeholder is deprecated. Please use tf.compat.v1.placeholder instead.\n",
      "\n",
      "WARNING:tensorflow:From /Users/mauraw/anaconda3/envs/p36workshop/lib/python3.6/site-packages/keras/backend/tensorflow_backend.py:4138: The name tf.random_uniform is deprecated. Please use tf.random.uniform instead.\n",
      "\n"
     ]
    }
   ],
   "source": [
    "model = Sequential() #use a sequential model bc we wanna keep adding layers potentially \n",
    "model.add(Dense(256, input_dim=7, activation='relu'))\n",
    "#model.add(Dense(12, activation=\"relu\", input_shape=(7,)))\n",
    "model.add(Dense(128, activation='relu'))\n",
    "model.add(Dense(64, activation='relu'))\n",
    "model.add(Dense(6, activation='softmax'))\n",
    "#model.add(Dense(1, activation='sigmoid'))\n",
    "#will prob need a dropout layer to compensate for overfitting"
   ]
  },
  {
   "cell_type": "code",
   "execution_count": 7,
   "metadata": {},
   "outputs": [
    {
     "name": "stdout",
     "output_type": "stream",
     "text": [
      "WARNING:tensorflow:From /Users/mauraw/anaconda3/envs/p36workshop/lib/python3.6/site-packages/keras/optimizers.py:790: The name tf.train.Optimizer is deprecated. Please use tf.compat.v1.train.Optimizer instead.\n",
      "\n",
      "WARNING:tensorflow:From /Users/mauraw/anaconda3/envs/p36workshop/lib/python3.6/site-packages/keras/backend/tensorflow_backend.py:3376: The name tf.log is deprecated. Please use tf.math.log instead.\n",
      "\n",
      "WARNING:tensorflow:From /Users/mauraw/anaconda3/envs/p36workshop/lib/python3.6/site-packages/tensorflow_core/python/ops/nn_impl.py:183: where (from tensorflow.python.ops.array_ops) is deprecated and will be removed in a future version.\n",
      "Instructions for updating:\n",
      "Use tf.where in 2.0, which has the same broadcast rule as np.where\n"
     ]
    }
   ],
   "source": [
    "sgd = optimizers.SGD(lr=0.01, decay=1e-6, momentum=0.9, nesterov=True)\n",
    "model.compile(optimizer='adam', loss='binary_crossentropy', metrics=['accuracy'])\n",
    "#use mean squared error loss funciton - ideal for our model and adam optimizer \n",
    "#adam optimizer: might change later - Adam is an optimization algorithm that can used instead of the classical stochastic gradient descent procedure to update network weights iterative based in training data."
   ]
  },
  {
   "cell_type": "code",
   "execution_count": 9,
   "metadata": {},
   "outputs": [
    {
     "name": "stdout",
     "output_type": "stream",
     "text": [
      "Epoch 1/100\n",
      "12548/12548 [==============================] - 1s 61us/step - loss: 0.2719 - acc: 0.8781\n",
      "Epoch 2/100\n",
      "12548/12548 [==============================] - 1s 64us/step - loss: 0.2599 - acc: 0.8834\n",
      "Epoch 3/100\n",
      "12548/12548 [==============================] - 1s 62us/step - loss: 0.2568 - acc: 0.8845\n",
      "Epoch 4/100\n",
      "12548/12548 [==============================] - 1s 61us/step - loss: 0.2509 - acc: 0.8877\n",
      "Epoch 5/100\n",
      "12548/12548 [==============================] - 1s 64us/step - loss: 0.2572 - acc: 0.8853\n",
      "Epoch 6/100\n",
      "12548/12548 [==============================] - 1s 66us/step - loss: 0.2564 - acc: 0.8858\n",
      "Epoch 7/100\n",
      "12548/12548 [==============================] - 1s 61us/step - loss: 0.2437 - acc: 0.8924\n",
      "Epoch 8/100\n",
      "12548/12548 [==============================] - 1s 58us/step - loss: 0.2538 - acc: 0.8862\n",
      "Epoch 9/100\n",
      "12548/12548 [==============================] - 1s 67us/step - loss: 0.2573 - acc: 0.8856\n",
      "Epoch 10/100\n",
      "12548/12548 [==============================] - 1s 61us/step - loss: 0.2427 - acc: 0.8932\n",
      "Epoch 11/100\n",
      "12548/12548 [==============================] - 1s 59us/step - loss: 0.2419 - acc: 0.8936\n",
      "Epoch 12/100\n",
      "12548/12548 [==============================] - 1s 60us/step - loss: 0.2472 - acc: 0.8906\n",
      "Epoch 13/100\n",
      "12548/12548 [==============================] - 1s 59us/step - loss: 0.2443 - acc: 0.8924\n",
      "Epoch 14/100\n",
      "12548/12548 [==============================] - 1s 71us/step - loss: 0.2413 - acc: 0.8935\n",
      "Epoch 15/100\n",
      "12548/12548 [==============================] - 1s 65us/step - loss: 0.2462 - acc: 0.8916\n",
      "Epoch 16/100\n",
      "12548/12548 [==============================] - 1s 59us/step - loss: 0.2448 - acc: 0.8926\n",
      "Epoch 17/100\n",
      "12548/12548 [==============================] - 1s 59us/step - loss: 0.2484 - acc: 0.8898\n",
      "Epoch 18/100\n",
      "12548/12548 [==============================] - 1s 59us/step - loss: 0.2383 - acc: 0.8957\n",
      "Epoch 19/100\n",
      "12548/12548 [==============================] - 1s 60us/step - loss: 0.2469 - acc: 0.8892\n",
      "Epoch 20/100\n",
      "12548/12548 [==============================] - 1s 59us/step - loss: 0.2440 - acc: 0.8926\n",
      "Epoch 21/100\n",
      "12548/12548 [==============================] - 1s 62us/step - loss: 0.2372 - acc: 0.8962\n",
      "Epoch 22/100\n",
      "12548/12548 [==============================] - 1s 62us/step - loss: 0.2396 - acc: 0.8946\n",
      "Epoch 23/100\n",
      "12548/12548 [==============================] - 1s 63us/step - loss: 0.2382 - acc: 0.8957\n",
      "Epoch 24/100\n",
      "12548/12548 [==============================] - 1s 64us/step - loss: 0.2365 - acc: 0.8969\n",
      "Epoch 25/100\n",
      "12548/12548 [==============================] - 1s 63us/step - loss: 0.2409 - acc: 0.8938\n",
      "Epoch 26/100\n",
      "12548/12548 [==============================] - 1s 64us/step - loss: 0.2407 - acc: 0.8943\n",
      "Epoch 27/100\n",
      "12548/12548 [==============================] - 1s 68us/step - loss: 0.2424 - acc: 0.8927\n",
      "Epoch 28/100\n",
      "12548/12548 [==============================] - 1s 71us/step - loss: 0.2375 - acc: 0.8959\n",
      "Epoch 29/100\n",
      "12548/12548 [==============================] - 1s 72us/step - loss: 0.2371 - acc: 0.8956\n",
      "Epoch 30/100\n",
      "12548/12548 [==============================] - 1s 64us/step - loss: 0.2506 - acc: 0.8894\n",
      "Epoch 31/100\n",
      "12548/12548 [==============================] - 1s 69us/step - loss: 0.2377 - acc: 0.8959\n",
      "Epoch 32/100\n",
      "12548/12548 [==============================] - 1s 89us/step - loss: 0.2344 - acc: 0.8967\n",
      "Epoch 33/100\n",
      "12548/12548 [==============================] - 1s 65us/step - loss: 0.2333 - acc: 0.8974\n",
      "Epoch 34/100\n",
      "12548/12548 [==============================] - 1s 64us/step - loss: 0.2356 - acc: 0.8966\n",
      "Epoch 35/100\n",
      "12548/12548 [==============================] - 1s 63us/step - loss: 0.2351 - acc: 0.8960\n",
      "Epoch 36/100\n",
      "12548/12548 [==============================] - 1s 64us/step - loss: 0.2306 - acc: 0.8987\n",
      "Epoch 37/100\n",
      "12548/12548 [==============================] - 1s 63us/step - loss: 0.2331 - acc: 0.8972\n",
      "Epoch 38/100\n",
      "12548/12548 [==============================] - 1s 67us/step - loss: 0.2307 - acc: 0.8986\n",
      "Epoch 39/100\n",
      "12548/12548 [==============================] - 1s 64us/step - loss: 0.2341 - acc: 0.8972\n",
      "Epoch 40/100\n",
      "12548/12548 [==============================] - 1s 64us/step - loss: 0.2295 - acc: 0.8995\n",
      "Epoch 41/100\n",
      "12548/12548 [==============================] - 1s 70us/step - loss: 0.2332 - acc: 0.8980\n",
      "Epoch 42/100\n",
      "12548/12548 [==============================] - 1s 66us/step - loss: 0.2349 - acc: 0.8966\n",
      "Epoch 43/100\n",
      "12548/12548 [==============================] - 1s 66us/step - loss: 0.2249 - acc: 0.9021\n",
      "Epoch 44/100\n",
      "12548/12548 [==============================] - 1s 68us/step - loss: 0.2304 - acc: 0.8996\n",
      "Epoch 45/100\n",
      "12548/12548 [==============================] - 1s 65us/step - loss: 0.2316 - acc: 0.8976\n",
      "Epoch 46/100\n",
      "12548/12548 [==============================] - 1s 64us/step - loss: 0.2264 - acc: 0.9011\n",
      "Epoch 47/100\n",
      "12548/12548 [==============================] - 1s 65us/step - loss: 0.2286 - acc: 0.9000\n",
      "Epoch 48/100\n",
      "12548/12548 [==============================] - 1s 64us/step - loss: 0.2278 - acc: 0.8999\n",
      "Epoch 49/100\n",
      "12548/12548 [==============================] - 1s 63us/step - loss: 0.2291 - acc: 0.8997\n",
      "Epoch 50/100\n",
      "12548/12548 [==============================] - 1s 61us/step - loss: 0.2256 - acc: 0.9011\n",
      "Epoch 51/100\n",
      "12548/12548 [==============================] - 1s 64us/step - loss: 0.2248 - acc: 0.9020\n",
      "Epoch 52/100\n",
      "12548/12548 [==============================] - 1s 65us/step - loss: 0.2266 - acc: 0.9009\n",
      "Epoch 53/100\n",
      "12548/12548 [==============================] - 1s 62us/step - loss: 0.2243 - acc: 0.9022\n",
      "Epoch 54/100\n",
      "12548/12548 [==============================] - 1s 61us/step - loss: 0.2236 - acc: 0.9019\n",
      "Epoch 55/100\n",
      "12548/12548 [==============================] - 1s 62us/step - loss: 0.2240 - acc: 0.9018\n",
      "Epoch 56/100\n",
      "12548/12548 [==============================] - 1s 65us/step - loss: 0.2237 - acc: 0.9023\n",
      "Epoch 57/100\n",
      "12548/12548 [==============================] - 1s 62us/step - loss: 0.2240 - acc: 0.9029\n",
      "Epoch 58/100\n",
      "12548/12548 [==============================] - 1s 61us/step - loss: 0.2197 - acc: 0.9042\n",
      "Epoch 59/100\n",
      "12548/12548 [==============================] - 1s 63us/step - loss: 0.2255 - acc: 0.9002\n",
      "Epoch 60/100\n",
      "12548/12548 [==============================] - 1s 67us/step - loss: 0.2224 - acc: 0.9030\n",
      "Epoch 61/100\n",
      "12548/12548 [==============================] - 1s 69us/step - loss: 0.2214 - acc: 0.9039\n",
      "Epoch 62/100\n",
      "12548/12548 [==============================] - 1s 69us/step - loss: 0.2235 - acc: 0.9026\n",
      "Epoch 63/100\n",
      "12548/12548 [==============================] - 1s 66us/step - loss: 0.2202 - acc: 0.9043\n",
      "Epoch 64/100\n",
      "12548/12548 [==============================] - 1s 64us/step - loss: 0.2278 - acc: 0.9007\n",
      "Epoch 65/100\n",
      "12548/12548 [==============================] - 1s 66us/step - loss: 0.2193 - acc: 0.9041\n",
      "Epoch 66/100\n",
      "12548/12548 [==============================] - 1s 63us/step - loss: 0.2217 - acc: 0.9038\n",
      "Epoch 67/100\n",
      "12548/12548 [==============================] - 1s 65us/step - loss: 0.2176 - acc: 0.9055\n",
      "Epoch 68/100\n",
      "12548/12548 [==============================] - 1s 63us/step - loss: 0.2179 - acc: 0.9053\n",
      "Epoch 69/100\n",
      "12548/12548 [==============================] - 1s 60us/step - loss: 0.2181 - acc: 0.9057\n",
      "Epoch 70/100\n",
      "12548/12548 [==============================] - 1s 63us/step - loss: 0.2190 - acc: 0.9046\n",
      "Epoch 71/100\n",
      "12548/12548 [==============================] - 1s 62us/step - loss: 0.2182 - acc: 0.9048\n",
      "Epoch 72/100\n",
      "12548/12548 [==============================] - 1s 62us/step - loss: 0.2181 - acc: 0.9058\n",
      "Epoch 73/100\n",
      "12548/12548 [==============================] - 1s 65us/step - loss: 0.2180 - acc: 0.9048\n",
      "Epoch 74/100\n",
      "12548/12548 [==============================] - 1s 62us/step - loss: 0.2219 - acc: 0.9036\n",
      "Epoch 75/100\n",
      "12548/12548 [==============================] - 1s 74us/step - loss: 0.2184 - acc: 0.9061\n",
      "Epoch 76/100\n",
      "12548/12548 [==============================] - 1s 76us/step - loss: 0.2242 - acc: 0.9033\n",
      "Epoch 77/100\n",
      "12548/12548 [==============================] - 1s 71us/step - loss: 0.2159 - acc: 0.9058\n",
      "Epoch 78/100\n",
      "12548/12548 [==============================] - 1s 65us/step - loss: 0.2148 - acc: 0.9074\n",
      "Epoch 79/100\n",
      "12548/12548 [==============================] - 1s 70us/step - loss: 0.2161 - acc: 0.9067\n",
      "Epoch 80/100\n",
      "12548/12548 [==============================] - 1s 75us/step - loss: 0.2124 - acc: 0.9082\n",
      "Epoch 81/100\n",
      "12548/12548 [==============================] - 1s 64us/step - loss: 0.2160 - acc: 0.9078\n",
      "Epoch 82/100\n",
      "12548/12548 [==============================] - 1s 63us/step - loss: 0.2176 - acc: 0.9050\n",
      "Epoch 83/100\n",
      "12548/12548 [==============================] - 1s 64us/step - loss: 0.2146 - acc: 0.9078\n",
      "Epoch 84/100\n",
      "12548/12548 [==============================] - 1s 86us/step - loss: 0.2093 - acc: 0.9105\n",
      "Epoch 85/100\n",
      "12548/12548 [==============================] - 1s 77us/step - loss: 0.2180 - acc: 0.9059\n",
      "Epoch 86/100\n",
      "12548/12548 [==============================] - 1s 69us/step - loss: 0.2130 - acc: 0.9090\n",
      "Epoch 87/100\n",
      "12548/12548 [==============================] - 1s 62us/step - loss: 0.2134 - acc: 0.9085\n",
      "Epoch 88/100\n",
      "12548/12548 [==============================] - 1s 68us/step - loss: 0.2143 - acc: 0.9074\n",
      "Epoch 89/100\n",
      "12548/12548 [==============================] - 1s 67us/step - loss: 0.2095 - acc: 0.9102\n",
      "Epoch 90/100\n",
      "12548/12548 [==============================] - 1s 66us/step - loss: 0.2121 - acc: 0.9094\n",
      "Epoch 91/100\n",
      "12548/12548 [==============================] - 1s 67us/step - loss: 0.2166 - acc: 0.9057\n",
      "Epoch 92/100\n",
      "12548/12548 [==============================] - 1s 61us/step - loss: 0.2097 - acc: 0.9104\n",
      "Epoch 93/100\n",
      "12548/12548 [==============================] - 1s 65us/step - loss: 0.2105 - acc: 0.9097\n",
      "Epoch 94/100\n",
      "12548/12548 [==============================] - 1s 64us/step - loss: 0.2112 - acc: 0.9091\n",
      "Epoch 95/100\n",
      "12548/12548 [==============================] - 1s 61us/step - loss: 0.2084 - acc: 0.9105\n",
      "Epoch 96/100\n",
      "12548/12548 [==============================] - 1s 60us/step - loss: 0.2092 - acc: 0.9107\n",
      "Epoch 97/100\n",
      "12548/12548 [==============================] - 1s 59us/step - loss: 0.2149 - acc: 0.9080\n",
      "Epoch 98/100\n",
      "12548/12548 [==============================] - 1s 61us/step - loss: 0.2168 - acc: 0.9060\n",
      "Epoch 99/100\n",
      "12548/12548 [==============================] - 1s 59us/step - loss: 0.2079 - acc: 0.9111\n",
      "Epoch 100/100\n",
      "12548/12548 [==============================] - 1s 60us/step - loss: 0.2126 - acc: 0.9090\n"
     ]
    },
    {
     "data": {
      "text/plain": [
       "<keras.callbacks.History at 0x1a450dc9b0>"
      ]
     },
     "execution_count": 9,
     "metadata": {},
     "output_type": "execute_result"
    }
   ],
   "source": [
    "model.fit(X, y, epochs=100, batch_size=128) #start with a baby amount "
   ]
  },
  {
   "cell_type": "code",
   "execution_count": 9,
   "metadata": {},
   "outputs": [
    {
     "name": "stdout",
     "output_type": "stream",
     "text": [
      "12548/12548 [==============================] - 1s 70us/step\n",
      "Accuracy: 86.21\n"
     ]
    }
   ],
   "source": [
    "# evaluate the keras model\n",
    "_, accuracy = model.evaluate(X, y) #this is the loss and the accuracy \n",
    "print('Accuracy: %.2f' % (accuracy*100))"
   ]
  },
  {
   "cell_type": "code",
   "execution_count": 10,
   "metadata": {},
   "outputs": [
    {
     "data": {
      "text/plain": [
       "'hi'"
      ]
     },
     "execution_count": 10,
     "metadata": {},
     "output_type": "execute_result"
    }
   ],
   "source": [
    "\"hi\""
   ]
  },
  {
   "cell_type": "code",
   "execution_count": null,
   "metadata": {},
   "outputs": [],
   "source": []
  }
 ],
 "metadata": {
  "kernelspec": {
   "display_name": "Python 3",
   "language": "python",
   "name": "python3"
  },
  "language_info": {
   "codemirror_mode": {
    "name": "ipython",
    "version": 3
   },
   "file_extension": ".py",
   "mimetype": "text/x-python",
   "name": "python",
   "nbconvert_exporter": "python",
   "pygments_lexer": "ipython3",
   "version": "3.6.9"
  }
 },
 "nbformat": 4,
 "nbformat_minor": 2
}
