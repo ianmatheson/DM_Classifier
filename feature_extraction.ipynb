{
 "cells": [
  {
   "cell_type": "code",
   "execution_count": 1,
   "metadata": {
    "scrolled": true
   },
   "outputs": [
    {
     "name": "stdout",
     "output_type": "stream",
     "text": [
      "Rap length:  2164\n",
      "Rock length:  2042\n",
      "Jazz length:  2386\n",
      "Classical length:  2187\n",
      "Country length:  2021\n",
      "EDM length:  2041\n"
     ]
    }
   ],
   "source": [
    "import requests\n",
    "import random\n",
    "import string\n",
    "import spotipy\n",
    "from spotipy.oauth2 import SpotifyClientCredentials\n",
    "import spotipy.util as util\n",
    "import pandas as pd\n",
    "import matplotlib.pyplot as plt\n",
    "import matplotlib.mlab as mlab\n",
    "from scipy.stats import norm\n",
    "import numpy as np\n",
    "import operator\n",
    "import scipy.stats as ss\n",
    "from math import pi\n",
    "\n",
    "\n",
    "#-------------Variables--------------\n",
    "#we could not make these global if that is better?????\n",
    "cid = \"9d6f6b55c63b442c825236c74f4d8cc5\"\n",
    "secret = \"2ee56909011b41e3bc7c25299b9b41cb\"\n",
    "redirect_uri = \"https://developer.spotify.com/dashboard/applications/9d6f6b55c63b442c825236c74f4d8cc5\"\n",
    "username = \"1278886039\" #username id\n",
    "\n",
    "\n",
    "#----------PLAYLIST IDS AND LINKS IN CASE OF INQUIRY...UGLY BUT THOUGHT IT WAS ESSENTIAL-----------\n",
    "#RAP/Hip-hop\n",
    "rap1ID = \"37i9dQZF1DX0XUsuxWHRQd\" #https://open.spotify.com/playlist/37i9dQZF1DX0XUsuxWHRQd RapCaviar\n",
    "rap2ID = \"4pCLzyVRnWpOivB6RwPREo\" #https://open.spotify.com/playlist/4pCLzyVRnWpOivB6RwPREo Rap Playlist 2019\n",
    "rap3ID = \"37i9dQZF1DWUFmyho2wkQU\" #https://open.spotify.com/playlist/37i9dQZF1DWUFmyho2wkQU Hip-hop Drive\n",
    "rap4ID = '5772HGqmp2E99GQo5tfmcJ' #https://open.spotify.com/playlist/5772HGqmp2E99GQo5tfmcJ 90's rap/hip hop\n",
    "rap5ID = \"37i9dQZF1DWT5MrZnPU1zD\" #https://open.spotify.com/playlist/37i9dQZF1DWT5MrZnPU1zD Hip hop controller\n",
    "rap6ID = \"5V1TS5zoSk9hNpGeofCAxq\" #https://open.spotify.com/playlist/5V1TS5zoSk9hNpGeofCAxq 2016 Rap hits\n",
    "rap7ID = \"2SmIysAFFMz4cBPPaQ70v7\" #https://open.spotify.com/playlist/2SmIysAFFMz4cBPPaQ70v7 Hip-hop 2000 classics\n",
    "rap8ID = \"2mlGr2NYuJXRA7M6GYhmNZ\" #https://open.spotify.com/playlist/2mlGr2NYuJXRA7M6GYhmNZ Hip-hop Lit\n",
    "rap9ID = \"5iA8wivZWLZ9iCLrvj1PLV\" #https://open.spotify.com/playlist/5iA8wivZWLZ9iCLrvj1PLV 90's rap\n",
    "rap10ID = \"5vgukxj086jbI0VRXIemTQ\" #https://open.spotify.com/playlist/5vgukxj086jbI0VRXIemTQ mauras wrap\n",
    "\n",
    "rapIDs = [rap1ID, rap2ID, rap3ID, rap4ID, rap5ID, rap6ID, rap7ID, rap8ID, rap9ID, rap10ID]\n",
    "\n",
    "#ROCK\n",
    "rock1ID = \"37i9dQZF1DWXRqgorJj26U\" #https://open.spotify.com/playlist/37i9dQZF1DWXRqgorJj26U Rock classics\n",
    "rock2ID = \"37i9dQZF1DX1rVvRgjX59F\" #https://open.spotify.com/playlist/37i9dQZF1DX1rVvRgjX59F 90's rock anthems\n",
    "rock3ID = \"5RkXZzyPCKrovrl1XF92vo\" #https://open.spotify.com/playlist/5RkXZzyPCKrovrl1XF92vo 70's Rock Classics\n",
    "rock4ID = \"1NIX36ZFWEtgXSbSNghoue\" #https://open.spotify.com/playlist/1NIX36ZFWEtgXSbSNghoue Hard Rock Classics\n",
    "rock5ID = \"00VTH4862l4NRuq6F3goLA\" #https://open.spotify.com/playlist/00VTH4862l4NRuq6F3goLA Rocks Classics\n",
    "rock6ID = \"41bG5z3KY2eJVGRUTmGnas\" #https://open.spotify.com/playlist/41bG5z3KY2eJVGRUTmGnas Best of - Rock Classics\n",
    "rock7ID = \"6LoIIvUyBQBXs7H3gJNT3y\" #https://open.spotify.com/playlist/6LoIIvUyBQBXs7H3gJNT3y Rock and roll classics\n",
    "rock8ID = \"4oIIueI3vnEI6RtGuOrwzr\" #https://open.spotify.com/playlist/4oIIueI3vnEI6RtGuOrwzr Exam 1\n",
    "rock9ID = \"4282qXajfoO3scbvogeQCW\" #https://open.spotify.com/playlist/4282qXajfoO3scbvogeQCW Classics (my playlist)\n",
    "rock10ID = \"2q7gVPXAMNC73Mxqb0LJoC\" #https://open.spotify.com/playlist/2q7gVPXAMNC73Mxqb0LJoC Exam 2\n",
    "rock11ID = \"1MfTMvgM5bCsctoUtKwbqy\" #https://open.spotify.com/playlist/1MfTMvgM5bCsctoUtKwbqy Exam 3 (all from rock class)\n",
    "rock12ID = \"4lIywN6kXl9KPm3OQ8u8G7\" #https://open.spotify.com/playlist/4lIywN6kXl9KPm3OQ8u8G7 Classic rock radio\n",
    "rock13ID = \"00o5lm5x6yP9rIJIx6qjrJ\" #https://open.spotify.com/playlist/00o5lm5x6yP9rIJIx6qjrJ More alt rock and current\n",
    "rock14ID = \"01BCSQLJo2krgnu0OZhG0L\" #https://open.spotify.com/playlist/01BCSQLJo2krgnu0OZhG0L Rock n roll classics\n",
    "\n",
    "rockIDs = [rock1ID, rock2ID, rock3ID, rock4ID, rock5ID, rock6ID, rock7ID, rock8ID, rock9ID, rock10ID, rock11ID, rock12ID, rock13ID, rock14ID]\n",
    "\n",
    "#JAZZ\n",
    "# jazz1ID = \"0kpec6BHD5cVFLjYnOqJgL\" #https://open.spotify.com/playlist/0kpec6BHD5cVFLjYnOqJgL Bar jazz classics\n",
    "jazz2ID = \"5hZtfYA9YY8kRq5bPPOtQP\" #https://open.spotify.com/playlist/5hZtfYA9YY8kRq5bPPOtQP Dixieland classics\n",
    "# jazz3ID = \"278sQOsiKoPwJqpvHfjqsV\" #https://open.spotify.com/playlist/278sQOsiKoPwJqpvHfjqsV Jazz for dining\n",
    "jazz4ID = \"4KCzwOy4LtlAd0UwCTYOhs\" #https://open.spotify.com/playlist/4KCzwOy4LtlAd0UwCTYOhs Jazz Classics\n",
    "jazz5ID = \"5WorvtdlSDEQI8FFx2bB41\" #https://open.spotify.com/playlist/5WorvtdlSDEQI8FFx2bB41 Jas (my playlist - check it out)\n",
    "# jazz6ID = \"6sU3nSuJzb63Md91cJXs7w\" #https://open.spotify.com/playlist/6sU3nSuJzb63Md91cJXs7w Jass\n",
    "# jazz7ID = \"37i9dQZF1DX7UE7qrnkvsf\" #https://open.spotify.com/playlist/37i9dQZF1DX7UE7qrnkvsf jazz for autumn\n",
    "jazz8ID = \"6UHNDehnrX6zizwRaLHoZE\" #https://open.spotify.com/playlist/6UHNDehnrX6zizwRaLHoZE big band and swing jazz\n",
    "jazz9ID = \"05Hd48jdQIz3s8WRrvGnzf\" #https://open.spotify.com/playlist/05Hd48jdQIz3s8WRrvGnzf Jazz Playlist\n",
    "# jazz10ID = \"478wi4LZyjCS1Jo6y26xnI\" #https://open.spotify.com/playlist/478wi4LZyjCS1Jo6y26xnI\n",
    "jazz11ID = \"7A36aaHgeJ3TXlCsVr86CX\" #https://open.spotify.com/playlist/7A36aaHgeJ3TXlCsVr86CX GIANT GUY - may delete and redo\n",
    "\n",
    "jazzIDs = [jazz2ID, jazz4ID, jazz5ID, jazz8ID, jazz9ID, jazz11ID]\n",
    "\n",
    "#CLASSICAL\n",
    "classical1ID = \"5tXCRZAUKp2uqtmJZNkQxY\" #https://open.spotify.com/playlist/5tXCRZAUKp2uqtmJZNkQxY classical\n",
    "classical2ID = \"3fNcrDFpar3QMWAc5fji9G\" #https://open.spotify.com/playlist/3fNcrDFpar3QMWAc5fji9G \"     \"\n",
    "classical3ID = \"0UNHDTybzvJrHmFASPnVgj\" #https://open.spotify.com/playlist/0UNHDTybzvJrHmFASPnVgj \"     \"\n",
    "classical4ID = \"7vbMPSU3IVLBQSDgucTUMP\" #https://open.spotify.com/playlist/7vbMPSU3IVLBQSDgucTUMP \"     \"\n",
    "classical5ID = \"37i9dQZF1DWWEJlAGA9gs0\" #https://open.spotify.com/playlist/37i9dQZF1DWWEJlAGA9gs0 \"     \"\n",
    "classical6ID = \"1pcKs0Rig9FiVPrj87Iffv\" #https://open.spotify.com/playlist/1pcKs0Rig9FiVPrj87Iffv classical essentials\n",
    "classical7ID = \"2Ea3nBAL68c1JQqMC4PMar\" #https://open.spotify.com/playlist/2Ea3nBAL68c1JQqMC4PMar classical essentials\n",
    "classical8ID = \"1lS6K85kThX7lkPjJ23daR\" #https://open.spotify.com/playlist/1lS6K85kThX7lkPjJ23daR my classical essentials\n",
    "classical9ID = \"1aeZv1CYwR39C6lf2mK1Bj\" #https://open.spotify.com/playlist/1aeZv1CYwR39C6lf2mK1Bj\n",
    "classicalIDs = [classical1ID, classical2ID, classical3ID, classical4ID, classical5ID, classical6ID, classical7ID, classical8ID, classical9ID]\n",
    "\n",
    "#COUNTRY\n",
    "country1ID = '4v4zEO7FPn9lKt7pLHao5X' # The only country playlist that matters https://open.spotify.com/playlist/4v4zEO7FPn9lKt7pLHao5X \n",
    "country2ID = \"2rlCIi7oKEyKTN42BUdMSB\" #https://open.spotify.com/playlist/2rlCIi7oKEyKTN42BUdMSB maura Country\n",
    "country3ID = \"5SvjmWVcoJkac9BKud2M6W\" #https://open.spotify.com/playlist/5SvjmWVcoJkac9BKud2M6W country\n",
    "country4ID = \"5AOSddZQa4C9bt4E7luY1L\" #https://open.spotify.com/playlist/5AOSddZQa4C9bt4E7luY1L Country\n",
    "country5ID = \"48OHCGqtPpbOZLFpN35Xsp\" #https://open.spotify.com/playlist/48OHCGqtPpbOZLFpN35Xsp Top country 2013-2019\n",
    "country6ID = \"6o78UWoUeQLks9G785NLsf\" #https://open.spotify.com/playlist/6o78UWoUeQLks9G785NLsf\n",
    "country7ID = \"13HYHjm9Tv5QWJIFSQlv7h\" #https://open.spotify.com/playlist/13HYHjm9Tv5QWJIFSQlv7h Country Classics\n",
    "country8ID = \"7fOzCZJTRCmvZ0G3Zy4AVW\" #https://open.spotify.com/playlist/7fOzCZJTRCmvZ0G3Zy4AVW Country new and old\n",
    "country9ID = \"0t6GshCAD6ym2ZWz7rjzoZ\" #https://open.spotify.com/playlist/0t6GshCAD6ym2ZWz7rjzoZ country playlist\n",
    "\n",
    "countryIDs = [country1ID, country2ID, country3ID, country4ID, country5ID, country6ID, country7ID, country8ID, country9ID]\n",
    "\n",
    "#EDM\n",
    "edm1ID = \"0tEj701zR0xgOXhXucX57B\" #https://open.spotify.com/playlist/0tEj701zR0xgOXhXucX57B maura edm (abg)\n",
    "edm2ID = \"4xXt0NNILAMwXsXjkdIaAK\" #https://open.spotify.com/playlist/4xXt0NNILAMwXsXjkdIaAK mike edm\n",
    "edm3ID = \"4ykwAEFulaKPDQpflIr0k7\" #https://open.spotify.com/playlist/4ykwAEFulaKPDQpflIr0k7 electric vibes?\n",
    "edm4ID = \"5mhb5QRMXgufiqEuHL74gi\" #https://open.spotify.com/playlist/5mhb5QRMXgufiqEuHL74gi\n",
    "edm5ID = \"5P1PcTioNlUzkW0bdr5FSg\" #https://open.spotify.com/playlist/5P1PcTioNlUzkW0bdr5FSg edm classics\n",
    "edm6ID = \"0rA7eold66Wk05o4irdrqq\" #https://open.spotify.com/playlist/0rA7eold66Wk05o4irdrqq chill edm\n",
    "edm7ID = \"3Di88mvYplBtkDBIzGLiiM\" #https://open.spotify.com/playlist/3Di88mvYplBtkDBIzGLiiM edm classics 2019\n",
    "edm8ID = \"2dL2ewiigZs9LuJHwBH2J0\" #https://open.spotify.com/playlist/2dL2ewiigZs9LuJHwBH2J0\n",
    "edm9ID = \"2R3Fh6q5rlpMbRU8oeRT1p\" #https://open.spotify.com/playlist/2R3Fh6q5rlpMbRU8oeRT1p Insane (but more chill edm)\n",
    "edm10ID = \"0sJLDKZxFWlcQFIIT45iQE\" #https://open.spotify.com/playlist/0sJLDKZxFWlcQFIIT45iQE edm music\n",
    "edm11ID = \"2W32HNDe5OgNsPvciLm1Ix\" #https://open.spotify.com/playlist/2W32HNDe5OgNsPvciLm1Ix best edm music of all time\n",
    "edm12ID = \"5Yn8cufVoLX4QubVGUOj9n\" #https://open.spotify.com/playlist/5Yn8cufVoLX4QubVGUOj9n house music\n",
    "\n",
    "edmIDs = [edm1ID, edm2ID, edm3ID, edm4ID, edm5ID, edm6ID, edm7ID, edm8ID, edm9ID, edm10ID, edm11ID, edm12ID]\n",
    "\n",
    "#------------IDS DONE-----------------\n",
    "\n",
    "\n",
    "#----------AUTHORIZATION--------------\n",
    "client_credentials_manager = SpotifyClientCredentials(client_id=cid, client_secret=secret) \n",
    "sp = spotipy.Spotify(client_credentials_manager=client_credentials_manager)\n",
    "scope = 'user-library-read playlist-read-private'\n",
    "token = util.prompt_for_user_token(username, scope, cid, secret, redirect_uri)\n",
    "if token:\n",
    "    sp = spotipy.Spotify(auth=token)\n",
    "else:\n",
    "    print(\"Can't get token for\", username)\n",
    "\n",
    "#-----------DATA HANDLING------------\n",
    "def mergePlaylists(ids):\n",
    "    allSongIDs = []\n",
    "    for id in ids:\n",
    "        playlist = get_playlist_tracks(id)\n",
    "        for song in playlist:\n",
    "            if song['track']['id'] in allSongIDs:\n",
    "                continue\n",
    "            allSongIDs.append(song['track']['id'])\n",
    "    return allSongIDs\n",
    "\n",
    "def get_playlist_tracks(playlist_id):\n",
    "    results = sp.user_playlist_tracks(username,playlist_id)\n",
    "    tracks = results['items']\n",
    "    while results['next']:\n",
    "        results = sp.next(results)\n",
    "        tracks.extend(results['items'])\n",
    "    return tracks\n",
    "\n",
    "def getFeatures(songIDs):\n",
    "    #SOMEHOW DEAL WITH FEATURE EXTRACTION AND AVERAGING???\n",
    "    for id in songIDs:\n",
    "        features = sp.audio_features(id)\n",
    "        print(features)\n",
    "\n",
    "#PRINTING OUT LENTGTH OF ALL GENRES MERGED PLAYLISTS WITHOUT DUPLICATES\n",
    "rapSongIDs = mergePlaylists(rapIDs)\n",
    "print(\"Rap length: \", len(rapSongIDs))\n",
    "rockSongIDs = mergePlaylists(rockIDs)\n",
    "print(\"Rock length: \", len(rockSongIDs))\n",
    "jazzSongIDs = mergePlaylists(jazzIDs)\n",
    "print(\"Jazz length: \", len(jazzSongIDs))\n",
    "classicalSongIDs = mergePlaylists(classicalIDs)\n",
    "print(\"Classical length: \", len(classicalSongIDs))\n",
    "countrySongIDs = mergePlaylists(countryIDs)\n",
    "print(\"Country length: \", len(countrySongIDs))\n",
    "edmSongIDs = mergePlaylists(edmIDs)\n",
    "print(\"EDM length: \", len(edmSongIDs))\n",
    "\n",
    "# longestTracks = longestPlay[\"tracks\"]\n",
    "# longestPlaySongs = longestTracks[\"items\"]\n",
    "\n",
    "# for song in longestPlaySongs:\n",
    "#     features = sp.audio_features(song['track']['id'])\n",
    "#     track = sp.track(song['track']['id'])\n",
    "#     album = sp.album(track['album']['id'])\n",
    "#     print(album['genres'])\n",
    "\n",
    "\n",
    "#-----------DATA CLEANING-------------\n",
    "# features = sp.audio_features(longestPlaySongs[0]['track']['id'])\n",
    "# track = sp.track(longestPlaySongs[0]['track']['id'])\n",
    "# album = sp.album(track['album']['id'])\n",
    "# print(album['genres'])\n",
    "# print(track['album'])\n",
    "# release_date = track['album']['release_date'] IMPORTANT DONT DELETE\n",
    "# print(release_date)\n",
    "# print(features)"
   ]
  },
  {
   "cell_type": "code",
   "execution_count": 2,
   "metadata": {},
   "outputs": [],
   "source": [
    "songLists = [rapSongIDs, rockSongIDs, jazzSongIDs, classicalSongIDs, countrySongIDs, edmSongIDs]\n",
    "rap_features, rap_ids, rock_features, rock_ids, jazz_features, jazz_ids, country_features, country_ids, edm_features, edm_ids = [],[],[],[],[],[],[],[],[],[] "
   ]
  },
  {
   "cell_type": "code",
   "execution_count": 3,
   "metadata": {},
   "outputs": [],
   "source": [
    "classical_features, classical_ids = [], []"
   ]
  },
  {
   "cell_type": "code",
   "execution_count": 4,
   "metadata": {},
   "outputs": [],
   "source": [
    "country_features, country_ids = [], []"
   ]
  },
  {
   "cell_type": "code",
   "execution_count": 5,
   "metadata": {},
   "outputs": [],
   "source": [
    "edm_features, edm_ids = [], []"
   ]
  },
  {
   "cell_type": "code",
   "execution_count": null,
   "metadata": {},
   "outputs": [
    {
     "name": "stdout",
     "output_type": "stream",
     "text": [
      "retrying ...2secs\n",
      "retrying ...1secs\n",
      "retrying ...1secs\n",
      "retrying ...1secs\n"
     ]
    }
   ],
   "source": [
    "for song in rapSongIDs:#done\n",
    "    audio_features = sp.audio_features(song)\n",
    "    #print(audio_features[0])\n",
    "    if audio_features[0]!=None:\n",
    "        rap_ids.append(song)\n",
    "        rap_features.append(audio_features[0])"
   ]
  },
  {
   "cell_type": "code",
   "execution_count": null,
   "metadata": {},
   "outputs": [],
   "source": [
    "for song in rockSongIDs:#done\n",
    "    audio_features = sp.audio_features(song)\n",
    "    #print(audio_features[0])\n",
    "    if audio_features[0]!=None:\n",
    "        rock_ids.append(song)\n",
    "        rock_features.append(audio_features[0])"
   ]
  },
  {
   "cell_type": "code",
   "execution_count": null,
   "metadata": {},
   "outputs": [],
   "source": [
    "for song in jazzSongIDs:#done\n",
    "    audio_features = sp.audio_features(song)\n",
    "    #print(audio_features[0])\n",
    "    if audio_features[0]!=None:\n",
    "        jazz_ids.append(song)\n",
    "        jazz_features.append(audio_features[0])"
   ]
  },
  {
   "cell_type": "code",
   "execution_count": null,
   "metadata": {},
   "outputs": [],
   "source": [
    "for song in classicalSongIDs: #done\n",
    "    try:\n",
    "        audio_features = sp.audio_features(song)\n",
    "        if audio_features[0]!=None:\n",
    "            classical_ids.append(song)\n",
    "            classical_features.append(audio_features[0])\n",
    "    except Exception:\n",
    "        continue\n",
    "   "
   ]
  },
  {
   "cell_type": "code",
   "execution_count": null,
   "metadata": {},
   "outputs": [],
   "source": [
    "for song in countrySongIDs:\n",
    "    try:\n",
    "        audio_features = sp.audio_features(song)\n",
    "        #print(audio_features[0])\n",
    "        if audio_features[0]!=None:\n",
    "            country_ids.append(song)\n",
    "            country_features.append(audio_features[0])\n",
    "    except Exception:\n",
    "        continue"
   ]
  },
  {
   "cell_type": "code",
   "execution_count": null,
   "metadata": {},
   "outputs": [],
   "source": [
    "for song in edmSongIDs:\n",
    "    try:\n",
    "        audio_features = sp.audio_features(song)\n",
    "        #print(audio_features[0])\n",
    "        if audio_features[0]!=None:\n",
    "            edm_ids.append(song)\n",
    "            edm_features.append(audio_features[0])\n",
    "    except Exception:\n",
    "        continue"
   ]
  },
  {
   "cell_type": "code",
   "execution_count": 145,
   "metadata": {
    "collapsed": true
   },
   "outputs": [],
   "source": [
    "rap_df = pd.DataFrame(rap_features, index = rap_ids)\n",
    "rock_df = pd.DataFrame(rock_features, index = rock_ids)\n",
    "jazz_df = pd.DataFrame(jazz_features, index = jazz_ids)\n",
    "classical_df = pd.DataFrame(classical_features, index = classical_ids)\n",
    "country_df = pd.DataFrame(country_features, index = country_ids)\n",
    "edm_df = pd.DataFrame(edm_features, index = edm_ids)"
   ]
  },
  {
   "cell_type": "code",
   "execution_count": 146,
   "metadata": {},
   "outputs": [],
   "source": [
    "rap_df = rap_df.drop([\"uri\", \"track_href\", \"analysis_url\", \"type\", \"id\", \"mode\", \"duration_ms\", \"liveness\", \"time_signature\"], axis = 1)\n",
    "rock_df = rock_df.drop([\"uri\", \"track_href\", \"analysis_url\", \"type\", \"id\", \"mode\", \"duration_ms\", \"liveness\", \"time_signature\"], axis = 1)\n",
    "jazz_df = jazz_df.drop([\"uri\", \"track_href\", \"analysis_url\", \"type\", \"id\", \"mode\", \"duration_ms\", \"liveness\", \"time_signature\"], axis = 1)\n",
    "classical_df = classical_df.drop([\"uri\", \"track_href\", \"analysis_url\", \"type\", \"id\", \"mode\", \"duration_ms\", \"liveness\", \"time_signature\"], axis = 1)\n",
    "country_df = country_df.drop([\"uri\", \"track_href\", \"analysis_url\", \"type\", \"id\", \"mode\", \"duration_ms\", \"liveness\", \"time_signature\"], axis = 1)\n",
    "edm_df = edm_df.drop([\"uri\", \"track_href\", \"analysis_url\", \"type\", \"id\", \"mode\", \"duration_ms\", \"liveness\", \"time_signature\"], axis = 1)"
   ]
  },
  {
   "cell_type": "code",
   "execution_count": 148,
   "metadata": {},
   "outputs": [],
   "source": [
    "rap_df.to_csv(\"rap_csv.csv\")\n",
    "rock_df.to_csv(\"rock_csv.csv\")\n",
    "jazz_df.to_csv(\"jazz_csv.csv\")\n",
    "classical_df.to_csv(\"classical_csv.csv\")\n",
    "country_df.to_csv(\"country_csv.csv\")\n",
    "edm_df.to_csv(\"edm_csv.csv\")"
   ]
  },
  {
   "cell_type": "code",
   "execution_count": null,
   "metadata": {
    "collapsed": true
   },
   "outputs": [],
   "source": []
  },
  {
   "cell_type": "code",
   "execution_count": null,
   "metadata": {
    "collapsed": true
   },
   "outputs": [],
   "source": []
  }
 ],
 "metadata": {
  "kernelspec": {
   "display_name": "Python 3",
   "language": "python",
   "name": "python3"
  },
  "language_info": {
   "codemirror_mode": {
    "name": "ipython",
    "version": 3
   },
   "file_extension": ".py",
   "mimetype": "text/x-python",
   "name": "python",
   "nbconvert_exporter": "python",
   "pygments_lexer": "ipython3",
   "version": "3.7.5"
  }
 },
 "nbformat": 4,
 "nbformat_minor": 2
}
