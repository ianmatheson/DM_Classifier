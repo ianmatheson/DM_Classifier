{
 "cells": [
  {
   "cell_type": "code",
   "execution_count": null,
   "metadata": {},
   "outputs": [],
   "source": [
    "from numpy import loadtxt\n",
    "from keras.models import Sequential\n",
    "from keras.layers import Dense, Dropout\n",
    "from sklearn.preprocessing import LabelEncoder\n",
    "import pandas as pd\n",
    "from keras.utils import np_utils\n",
    "import numpy as np\n",
    "from keras import optimizers\n",
    "from sklearn.model_selection import train_test_split\n",
    "from sklearn import metrics\n",
    "import matplotlib.pyplot as plt\n",
    "#Theano backend\n",
    "from numpy import argmax\n"
   ]
  },
  {
   "cell_type": "code",
   "execution_count": null,
   "metadata": {},
   "outputs": [],
   "source": [
    "#load in the data set: \n",
    "jazz = pd.read_csv(\"../data/jazz_csv.csv\")\n",
    "classical = pd.read_csv(\"../data/classical_csv.csv\")\n",
    "country = pd.read_csv(\"../data/country_csv.csv\")\n",
    "edm = pd.read_csv(\"../data/edm_csv.csv\")\n",
    "rap = pd.read_csv(\"../data/rap_csv.csv\")\n",
    "rock = pd.read_csv(\"../data/rock_csv.csv\")"
   ]
  },
  {
   "cell_type": "code",
   "execution_count": 1,
   "metadata": {},
   "outputs": [
    {
     "ename": "NameError",
     "evalue": "name 'jazz' is not defined",
     "output_type": "error",
     "traceback": [
      "\u001b[1;31m---------------------------------------------------------------------------\u001b[0m",
      "\u001b[1;31mNameError\u001b[0m                                 Traceback (most recent call last)",
      "\u001b[1;32m<ipython-input-1-a7b512837bdc>\u001b[0m in \u001b[0;36m<module>\u001b[1;34m\u001b[0m\n\u001b[0;32m      2\u001b[0m \u001b[0mfeatures\u001b[0m \u001b[1;33m=\u001b[0m \u001b[1;33m[\u001b[0m\u001b[1;33m]\u001b[0m\u001b[1;33m\u001b[0m\u001b[1;33m\u001b[0m\u001b[0m\n\u001b[0;32m      3\u001b[0m \u001b[0mgenres\u001b[0m \u001b[1;33m=\u001b[0m \u001b[1;33m[\u001b[0m\u001b[1;33m]\u001b[0m\u001b[1;33m\u001b[0m\u001b[1;33m\u001b[0m\u001b[0m\n\u001b[1;32m----> 4\u001b[1;33m \u001b[0mdataframes\u001b[0m \u001b[1;33m=\u001b[0m \u001b[1;33m{\u001b[0m\u001b[1;36m1\u001b[0m\u001b[1;33m:\u001b[0m\u001b[0mjazz\u001b[0m\u001b[1;33m,\u001b[0m \u001b[1;36m2\u001b[0m\u001b[1;33m:\u001b[0m \u001b[0mclassical\u001b[0m\u001b[1;33m,\u001b[0m \u001b[1;36m3\u001b[0m\u001b[1;33m:\u001b[0m\u001b[0mcountry\u001b[0m\u001b[1;33m,\u001b[0m \u001b[1;36m4\u001b[0m\u001b[1;33m:\u001b[0m\u001b[0medm\u001b[0m\u001b[1;33m,\u001b[0m \u001b[1;36m5\u001b[0m\u001b[1;33m:\u001b[0m \u001b[0mrap\u001b[0m\u001b[1;33m,\u001b[0m \u001b[1;36m6\u001b[0m\u001b[1;33m:\u001b[0m \u001b[0mrock\u001b[0m\u001b[1;33m}\u001b[0m \u001b[1;31m#map genre dfs to index\u001b[0m\u001b[1;33m\u001b[0m\u001b[1;33m\u001b[0m\u001b[0m\n\u001b[0m\u001b[0;32m      5\u001b[0m \u001b[1;31m#dataframes = {1:jazz, 2: classical, 3:rock, 4:edm, 5: rap } #map genre dfs to index\u001b[0m\u001b[1;33m\u001b[0m\u001b[1;33m\u001b[0m\u001b[1;33m\u001b[0m\u001b[0m\n\u001b[0;32m      6\u001b[0m \u001b[1;33m\u001b[0m\u001b[0m\n",
      "\u001b[1;31mNameError\u001b[0m: name 'jazz' is not defined"
     ]
    }
   ],
   "source": [
    "count = 0\n",
    "features = []\n",
    "genres = []\n",
    "dataframes = {1:jazz, 2: classical, 3:country, 4:edm, 5: rap, 6: rock} #map genre dfs to index\n",
    "#dataframes = {1:jazz, 2: classical, 3:rock, 4:edm, 5: rap } #map genre dfs to index\n",
    "\n",
    "for genre, dataframe in dataframes.items():\n",
    "    count = 0\n",
    "    for ind, row in dataframe.iterrows():\n",
    "        count+=1\n",
    "        #features.append([row[\"acousticness\"], row[\"danceability\"], row[\"energy\"],row[\"loudness\"], row[\"tempo\"], row[\"valence\"]])\n",
    "\n",
    "        features.append([row[\"acousticness\"],row[\"instrumentalness\"], row[\"key\"], row[\"danceability\"], row[\"energy\"],row[\"loudness\"],row[\"speechiness\"], row[\"tempo\"], row[\"valence\"]])\n",
    "        genres.append(genre)"
   ]
  },
  {
   "cell_type": "code",
   "execution_count": null,
   "metadata": {},
   "outputs": [],
   "source": [
    "def visualizeMeans(dataframe):\n",
    "    #print(dataframe[\"acousticness\"])\n",
    "    listOfMeans = []\n",
    "    \n",
    "    acousticnessM = np.mean(dataframe[\"acousticness\"])\n",
    "    instrumentalnessM = np.mean(dataframe[\"instrumentalness\"])\n",
    "    keyM = np.mean(dataframe[\"key\"])\n",
    "    danceabilityM = np.mean(dataframe[\"danceability\"])\n",
    "    energyM = np.mean(dataframe[\"energy\"])\n",
    "    loudnessM = np.mean(dataframe[\"loudness\"])\n",
    "    speechinessM = np.mean(dataframe[\"speechiness\"])\n",
    "    tempoM = np.mean(dataframe[\"tempo\"])\n",
    "    valenceM = np.mean(dataframe[\"valence\"])\n",
    "    \n",
    "    listOfMeans.append(acousticnessM)\n",
    "    listOfMeans.append(instrumentalnessM)\n",
    "    listOfMeans.append(keyM)\n",
    "    listOfMeans.append(danceabilityM)\n",
    "    listOfMeans.append(energyM)\n",
    "    listOfMeans.append(loudnessM)\n",
    "    listOfMeans.append(speechinessM)\n",
    "    listOfMeans.append(tempoM)\n",
    "    listOfMeans.append(valenceM)\n",
    "    \n",
    "    return listOfMeans\n",
    "\n",
    "jazzMeans = visualizeMeans(dataframes[1])\n",
    "classicalMeans = visualizeMeans(dataframes[2])\n",
    "countryMeans = visualizeMeans(dataframes[3])\n",
    "edmMeans = visualizeMeans(dataframes[4])\n",
    "rapMeans = visualizeMeans(dataframes[5])\n",
    "rockMeans = visualizeMeans(dataframes[6])\n",
    "\n",
    "def plotMeans(jazzMeans, classicalMeans, countryMeans, edmMeans, rapMeans, rockMeans, feature, title, index):\n",
    "    \n",
    "    objects = (\"Jazz\", \"Classical\", \"Country\", \"Edm\", \"Rap\", \"Rock\")\n",
    "    y_pos = np.arange(len(objects))\n",
    "    performance = (jazzMeans[index], classicalMeans[index], countryMeans[index], edmMeans[index], rapMeans[index], rockMeans[index])\n",
    "    \n",
    "    plt.bar(y_pos, performance, align='center', alpha=0.5)\n",
    "    plt.xticks(y_pos, objects)\n",
    "    plt.xlabel('Genres')\n",
    "    plt.ylabel(feature)\n",
    "    plt.title(title)\n",
    "    \n",
    "    plt.show()\n",
    "    \n",
    "\n",
    "plotMeans(jazzMeans, classicalMeans, countryMeans, edmMeans, rapMeans, rockMeans, \"Acousticness\", \"Acousticness Mean vs Genre\", 0)\n",
    "plotMeans(jazzMeans, classicalMeans, countryMeans, edmMeans, rapMeans, rockMeans, \"Instrumentalness\", \"Instrumentalness Mean vs Genre\", 1)\n",
    "plotMeans(jazzMeans, classicalMeans, countryMeans, edmMeans, rapMeans, rockMeans, \"Danceability\", \"Danceability Mean vs Genre\", 3)\n",
    "plotMeans(jazzMeans, classicalMeans, countryMeans, edmMeans, rapMeans, rockMeans, \"Energy\", \"Energy Mean vs Genre\", 4)\n",
    "plotMeans(jazzMeans, classicalMeans, countryMeans, edmMeans, rapMeans, rockMeans, \"Loudness\", \"Loudness Mean vs Genre\", 5)\n",
    "plotMeans(jazzMeans, classicalMeans, countryMeans, edmMeans, rapMeans, rockMeans, \"Speechiness\", \"Speechiness Mean vs Genre\", 6)\n",
    "plotMeans(jazzMeans, classicalMeans, countryMeans, edmMeans, rapMeans, rockMeans, \"Tempo\", \"Tempo Mean vs Genre\", 7)\n",
    "plotMeans(jazzMeans, classicalMeans, countryMeans, edmMeans, rapMeans, rockMeans, \"Valence\", \"Valence Mean vs Genre\", 8)\n"
   ]
  }
 ],
 "metadata": {
  "kernelspec": {
   "display_name": "Python 3",
   "language": "python",
   "name": "python3"
  },
  "language_info": {
   "codemirror_mode": {
    "name": "ipython",
    "version": 3
   },
   "file_extension": ".py",
   "mimetype": "text/x-python",
   "name": "python",
   "nbconvert_exporter": "python",
   "pygments_lexer": "ipython3",
   "version": "3.7.1"
  }
 },
 "nbformat": 4,
 "nbformat_minor": 2
}
